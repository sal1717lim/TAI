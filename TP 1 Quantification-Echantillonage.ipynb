{
 "cells": [
  {
   "cell_type": "markdown",
   "metadata": {},
   "source": [
    "AISSI MED SALIM M2 IV 171731077785 ,https://github.com/sal1717lim/TAI"
   ]
  },
  {
   "cell_type": "markdown",
   "metadata": {},
   "source": [
    "# TP à rendre 1 quantification et échantillonage\n",
    "Dans ce TP, nous aimerions transformer une image pseudo analogique en image numérique. \n",
    "L'image à coordonnées (x,y) réelles et valeurs d'amplitude f(x,y) réelles, devra être numérisée en:\n",
    "- transformant d'abord les coordonnées en entiers \n",
    "- transformant ensuite les amplitudes en entiers\n",
    "\n",
    "L'image pseudo analogique est contenue dans le fichier de données à loader."
   ]
  },
  {
   "cell_type": "markdown",
   "metadata": {},
   "source": [
    "# 1- Importantion des librairies necessaires au travail"
   ]
  },
  {
   "cell_type": "code",
   "execution_count": 1,
   "metadata": {},
   "outputs": [],
   "source": [
    "import numpy as np\n",
    "import cv2\n",
    "import matplotlib.pyplot as plt"
   ]
  },
  {
   "cell_type": "markdown",
   "metadata": {},
   "source": [
    "# Lecture des fichiers d'amplitude et coordonnées"
   ]
  },
  {
   "cell_type": "code",
   "execution_count": 2,
   "metadata": {},
   "outputs": [],
   "source": [
    "outfile1 = 'lines1.npy'\n",
    "outfile2 = 'Cols1.npy'\n",
    "outfile3 = 'amplitude1.npy'\n",
    "lines=np.load(outfile1)\n",
    "cols=np.load(outfile2)\n",
    "amplitude=np.load(outfile3)"
   ]
  },
  {
   "cell_type": "markdown",
   "metadata": {},
   "source": [
    "# Echantillonage\n",
    "L'échantillonnage consiste à prélever les valeurs d'un signal à intervalles définis, généralement réguliers. Il produit une suite de valeurs discrètes nommées échantillons. dans notre cas, j'ai voulu varier la valeur du pas pour avoirs des résolutions différente de l'image et voir l'impact de cette opération sur la qualité de l'image .j'utilise un pas 5,10, 20 et 50 .en sortie nous aurons 4 matrices de taille 200x200 100x100 50x50 et 20x20"
   ]
  },
  {
   "cell_type": "code",
   "execution_count": 3,
   "metadata": {},
   "outputs": [
    {
     "name": "stdout",
     "output_type": "stream",
     "text": [
      "(200, 200)\n",
      "(100, 100)\n",
      "(50, 50)\n",
      "(20, 20)\n"
     ]
    }
   ],
   "source": [
    "#on teste avec differente valeur de  step 5,10,20 et 50\n",
    "step1=5\n",
    "step2=10\n",
    "step3=20\n",
    "step4=50\n",
    "Echantillonage1=amplitude[0:amplitude.shape[0]:step1,0:amplitude.shape[1]:step1]\n",
    "Echantillonage2=amplitude[0:amplitude.shape[0]:step2,0:amplitude.shape[1]:step2]\n",
    "Echantillonage3=amplitude[0:amplitude.shape[0]:step3,0:amplitude.shape[1]:step3]\n",
    "Echantillonage4=amplitude[0:amplitude.shape[0]:step4,0:amplitude.shape[1]:step4]\n",
    "print(Echantillonage1.shape)\n",
    "print(Echantillonage2.shape)\n",
    "print(Echantillonage3.shape)\n",
    "print(Echantillonage4.shape)"
   ]
  },
  {
   "cell_type": "markdown",
   "metadata": {},
   "source": [
    "# Quantification\n",
    "La quantification permet de définir le nombre de couleurs(niveau de gris possible dans l'image) selon le nombre de bits d'un pixel, plus le norme de bit est important, plus le nombre de couleurs différentes peut être utilisé.\n",
    "dans un premier lieu je défie le nombre de bits à 4 pour voir l'image sur différentes résolutions, par la suite je varie le nombre de bits et j'affiche l'image pour voir les variations de nuances de gris "
   ]
  },
  {
   "cell_type": "code",
   "execution_count": 4,
   "metadata": {},
   "outputs": [],
   "source": [
    "nBits=4\n",
    "# calculer le nombre de niveaux de gris\n",
    "L= pow(2,nBits)\n",
    "taillemax=L-1\n",
    "#réaliser la quantification des 4  Echantillonage\n",
    "resultat1  = np.rint(Echantillonage1*taillemax)\n",
    "resultat2  = np.rint(Echantillonage2*taillemax)\n",
    "resultat3  = np.rint(Echantillonage3*taillemax)\n",
    "resultat4  = np.rint(Echantillonage4*taillemax)"
   ]
  },
  {
   "cell_type": "markdown",
   "metadata": {},
   "source": [
    "# Afficher les resultat"
   ]
  },
  {
   "cell_type": "code",
   "execution_count": 5,
   "metadata": {},
   "outputs": [
    {
     "data": {
      "text/plain": [
       "<matplotlib.image.AxesImage at 0x2c83f3cc640>"
      ]
     },
     "execution_count": 5,
     "metadata": {},
     "output_type": "execute_result"
    },
    {
     "data": {
      "image/png": "[encoded data removed]",
      "text/plain": [
       "<Figure size 432x288 with 4 Axes>"
      ]
     },
     "metadata": {
      "needs_background": "light"
     },
     "output_type": "display_data"
    }
   ],
   "source": [
    "plt.subplot(141)\n",
    "plt.imshow(resultat1,cmap='gray')\n",
    "plt.subplot(142)\n",
    "plt.imshow(resultat2,cmap='gray')\n",
    "plt.subplot(143)\n",
    "plt.imshow(resultat3,cmap='gray')\n",
    "plt.subplot(144)\n",
    "plt.imshow(resultat4,cmap='gray')"
   ]
  },
  {
   "cell_type": "markdown",
   "metadata": {},
   "source": [
    "# NB\n",
    "Après affichage des résultats, on remarque que plus le step est petit, plus la résolution de l'image est grande, et plus on a plus de Detaille sur l'image, vu que le nombre de bits et égale à 4 pour les 4 images, nous avons les mêmes nuances de gris "
   ]
  },
  {
   "cell_type": "code",
   "execution_count": null,
   "metadata": {},
   "outputs": [],
   "source": [
    "plt.imsave(\"resultat1.png\", resultat1, cmap='gray')\n",
    "plt.imsave(\"resultat2.png\", resultat2, cmap='gray')\n",
    "plt.imsave(\"resultat3.png\", resultat3, cmap='gray')\n",
    "plt.imsave(\"resultat4.png\", resultat4, cmap='gray')"
   ]
  },
  {
   "cell_type": "markdown",
   "metadata": {},
   "source": [
    "# Essai avec une Quantification differentes"
   ]
  },
  {
   "cell_type": "code",
   "execution_count": 7,
   "metadata": {},
   "outputs": [],
   "source": [
    "nBits=1\n",
    "# calculer le nombre de niveaux de gris\n",
    "L= pow(2,nBits)\n",
    "taillemax1=L-1\n",
    "###############\n",
    "nBits=2\n",
    "# calculer le nombre de niveaux de gris\n",
    "L= pow(2,nBits)\n",
    "taillemax2=L-1\n",
    "###############\n",
    "nBits=3\n",
    "# calculer le nombre de niveaux de gris\n",
    "L= pow(2,nBits)\n",
    "taillemax3=L-1\n",
    "###############\n",
    "nBits=8\n",
    "# calculer le nombre de niveaux de gris\n",
    "L= pow(2,nBits)\n",
    "taillemax4=L-1\n",
    "resultat1  = np.rint(Echantillonage1*taillemax1)\n",
    "resultat2  = np.rint(Echantillonage1*taillemax2)\n",
    "resultat3  = np.rint(Echantillonage1*taillemax3)\n",
    "resultat4  = np.rint(Echantillonage1*taillemax4)"
   ]
  },
  {
   "cell_type": "markdown",
   "metadata": {},
   "source": [
    "# Afficher les resultat "
   ]
  },
  {
   "cell_type": "code",
   "execution_count": 8,
   "metadata": {},
   "outputs": [
    {
     "data": {
      "text/plain": [
       "<matplotlib.image.AxesImage at 0x2c83f56cd90>"
      ]
     },
     "execution_count": 8,
     "metadata": {},
     "output_type": "execute_result"
    },
    {
     "data": {
      "image/png": "[encoded data removed]",
      "text/plain": [
       "<Figure size 432x288 with 4 Axes>"
      ]
     },
     "metadata": {
      "needs_background": "light"
     },
     "output_type": "display_data"
    }
   ],
   "source": [
    "plt.subplot(141)\n",
    "plt.imshow(resultat1,cmap='gray')\n",
    "plt.subplot(142)\n",
    "plt.imshow(resultat2,cmap='gray')\n",
    "plt.subplot(143)\n",
    "plt.imshow(resultat3,cmap='gray')\n",
    "plt.subplot(144)\n",
    "plt.imshow(resultat4,cmap='gray')"
   ]
  },
  {
   "cell_type": "markdown",
   "metadata": {},
   "source": [
    "# NB\n",
    "dans cet exemple-là, la résolution reste la même (200x200), et je fais varier le nombre de bits pour codifier la couleur, avec un nombre de bits égale à 1, on obtient une image binaire, et plus le nombre de bits est important, plus on obtient plus de nuances dans les couleurs\n",
    "le dernier cas est le cas utilisé dans nos machine (8 bits)"
   ]
  },
  {
   "cell_type": "markdown",
   "metadata": {},
   "source": [
    "# Lecture et affichage d'une autre image \n"
   ]
  },
  {
   "cell_type": "code",
   "execution_count": 9,
   "metadata": {
    "scrolled": true
   },
   "outputs": [],
   "source": [
    "# lecture de l'image en niveau de gris\n",
    "image = cv2.imread('toAdd.bmp',0)"
   ]
  },
  {
   "cell_type": "code",
   "execution_count": 10,
   "metadata": {},
   "outputs": [],
   "source": [
    "# afficher avec opencv\n",
    "cv2.namedWindow('image', cv2.WINDOW_NORMAL)\n",
    "cv2.imshow('image',image)\n",
    "cv2.waitKey(0)\n",
    "cv2.destroyAllWindows()"
   ]
  },
  {
   "cell_type": "markdown",
   "metadata": {},
   "source": [
    "# Réaliser les operations sur l'image"
   ]
  },
  {
   "cell_type": "markdown",
   "metadata": {},
   "source": [
    "Addition des deux images\n"
   ]
  },
  {
   "cell_type": "code",
   "execution_count": 14,
   "metadata": {},
   "outputs": [
    {
     "data": {
      "text/plain": [
       "<matplotlib.image.AxesImage at 0x2c83fa09640>"
      ]
     },
     "execution_count": 14,
     "metadata": {},
     "output_type": "execute_result"
    },
    {
     "data": {
      "image/png": "[encoded data removed]",
      "text/plain": [
       "<Figure size 432x288 with 3 Axes>"
      ]
     },
     "metadata": {
      "needs_background": "light"
     },
     "output_type": "display_data"
    }
   ],
   "source": [
    "# additionner image et resultat\n",
    "# si les deux images ne sont pas de même taille, \n",
    "# il faudra les redimensionner\n",
    "# analyser les paramètres de redimensionnement\n",
    "resultat=cv2.imread(\"resultat1.png\",0)\n",
    "size=(max(resultat.shape[0],image.shape[0]),max(resultat.shape[1],image.shape[1]))\n",
    "resultat=cv2.resize(resultat,size)\n",
    "image=cv2.resize(image,size)\n",
    "add1=image+resultat\n",
    "soustraction1=image-resultat\n",
    "soustraction2=-soustraction1\n",
    "plt.subplot(131)\n",
    "plt.imshow(add1,cmap='gray')\n",
    "plt.subplot(132)\n",
    "plt.imshow(soustraction1,cmap='gray')\n",
    "plt.subplot(133)\n",
    "plt.imshow(soustraction2,cmap='gray')\n"
   ]
  },
  {
   "cell_type": "markdown",
   "metadata": {},
   "source": [
    "# NB\n",
    "en plus de l'addition, j'effectue l'opération de soustraction entre les 2 images \n",
    "la première soustraction1 et image1-image2 \n",
    "la deuxième soustraction et image2-images1 qui est =-soustraction1\n",
    "bien sur avant la soustraction on doit faire une redimension de nos matrices pour qu'elles soient de taille égale, j'utilise la fonction resize d'open-cv, j'ai choisi la valeur de resize comme étant la taille maximale en ligne et colonne des deux images, on aurait pu utiliser la taille d'une des deux images (200,200) par exemple (il s'agit d'un choix personnel)"
   ]
  },
  {
   "cell_type": "markdown",
   "metadata": {},
   "source": [
    "Negatif de l'image"
   ]
  },
  {
   "cell_type": "code",
   "execution_count": null,
   "metadata": {},
   "outputs": [],
   "source": [
    "# soustraire de 255 de chaque pixel \n",
    "imageN=255-image\n",
    "# afficher l'image résultante\n",
    "plt.imshow(imageN,cmap='gray')"
   ]
  },
  {
   "cell_type": "markdown",
   "metadata": {},
   "source": [
    "# NB\n",
    "open-cv nous donne la possibilité de faire la négation d'une image avec 255-images, sans créer une matrice de valeurs 255"
   ]
  },
  {
   "cell_type": "markdown",
   "metadata": {},
   "source": [
    "# Consignes"
   ]
  },
  {
   "cell_type": "markdown",
   "metadata": {},
   "source": [
    "Le travail est à remettre par groupe de 4 au maximum [1..4].\n",
    "\n",
    "Le délai est le vendredi à 19h"
   ]
  },
  {
   "cell_type": "code",
   "execution_count": 13,
   "metadata": {},
   "outputs": [],
   "source": [
    "# bonne chance"
   ]
  }
 ],
 "metadata": {
  "kernelspec": {
   "display_name": "Python 3",
   "language": "python",
   "name": "python3"
  },
  "language_info": {
   "codemirror_mode": {
    "name": "ipython",
    "version": 3
   },
   "file_extension": ".py",
   "mimetype": "text/x-python",
   "name": "python",
   "nbconvert_exporter": "python",
   "pygments_lexer": "ipython3",
   "version": "3.8.5"
  }
 },
 "nbformat": 4,
 "nbformat_minor": 2
}
