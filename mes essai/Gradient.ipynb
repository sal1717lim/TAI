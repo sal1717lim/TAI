{
 "cells": [
  {
   "cell_type": "raw",
   "metadata": {},
   "source": [
    "Importation des lib"
   ]
  },
  {
   "cell_type": "code",
   "execution_count": 6,
   "metadata": {},
   "outputs": [],
   "source": [
    "import numpy as np\n",
    "import cv2 as cv\n",
    "import math"
   ]
  },
  {
   "cell_type": "code",
   "execution_count": 7,
   "metadata": {},
   "outputs": [
    {
     "ename": "AttributeError",
     "evalue": "'NoneType' object has no attribute 'shape'",
     "output_type": "error",
     "traceback": [
      "\u001b[1;31m---------------------------------------------------------------------------\u001b[0m",
      "\u001b[1;31mAttributeError\u001b[0m                            Traceback (most recent call last)",
      "\u001b[1;32m<ipython-input-7-a6d2b28d603f>\u001b[0m in \u001b[0;36m<module>\u001b[1;34m\u001b[0m\n\u001b[0;32m      1\u001b[0m \u001b[1;31m#lecture de l'image\u001b[0m\u001b[1;33m\u001b[0m\u001b[1;33m\u001b[0m\u001b[1;33m\u001b[0m\u001b[0m\n\u001b[0;32m      2\u001b[0m \u001b[0mimage\u001b[0m \u001b[1;33m=\u001b[0m\u001b[0mcv\u001b[0m\u001b[1;33m.\u001b[0m\u001b[0mimread\u001b[0m\u001b[1;33m(\u001b[0m\u001b[1;34m'e.png'\u001b[0m\u001b[1;33m,\u001b[0m\u001b[1;36m0\u001b[0m\u001b[1;33m)\u001b[0m\u001b[1;33m\u001b[0m\u001b[1;33m\u001b[0m\u001b[0m\n\u001b[1;32m----> 3\u001b[1;33m \u001b[0mimage\u001b[0m\u001b[1;33m.\u001b[0m\u001b[0mshape\u001b[0m\u001b[1;33m\u001b[0m\u001b[1;33m\u001b[0m\u001b[0m\n\u001b[0m",
      "\u001b[1;31mAttributeError\u001b[0m: 'NoneType' object has no attribute 'shape'"
     ]
    }
   ],
   "source": [
    "#lecture de l'image\n",
    "image =cv.imread('e.png',0)\n",
    "image.shape"
   ]
  },
  {
   "cell_type": "code",
   "execution_count": 35,
   "metadata": {},
   "outputs": [],
   "source": [
    "def grad(a1,a2): return (a1-a2)"
   ]
  },
  {
   "cell_type": "code",
   "execution_count": 36,
   "metadata": {},
   "outputs": [],
   "source": [
    "def modgrad(mat,i,j):\n",
    "    if i+1!=mat.shape[0] and j+1 != mat.shape[1]:\n",
    "        return( math.sqrt(math.pow(grad(mat[i][j],mat[i][j+1]),2)+math.pow(grad(mat[i][j],mat[i+1][j]),2)))\n",
    "    else :\n",
    "        return 255"
   ]
  },
  {
   "cell_type": "code",
   "execution_count": 37,
   "metadata": {},
   "outputs": [
    {
     "name": "stdout",
     "output_type": "stream",
     "text": [
      "(1021, 1021)\n"
     ]
    },
    {
     "name": "stderr",
     "output_type": "stream",
     "text": [
      "<ipython-input-35-9a21707ed3a5>:1: RuntimeWarning: overflow encountered in ubyte_scalars\n",
      "  def grad(a1,a2): return (a1-a2)\n"
     ]
    }
   ],
   "source": [
    "def calculegrad(mat):\n",
    "    resultat=np.zeros(mat.shape)\n",
    "    resultat2=np.zeros(mat.shape)\n",
    "    resultat3=np.zeros(mat.shape)\n",
    "    \n",
    "    print(resultat.shape)\n",
    "    for i in range(mat.shape[0]):\n",
    "        for j in range(mat.shape[1]):\n",
    "            if i+1!=mat.shape[0] and j+1 != mat.shape[1]:\n",
    "                resultat[i][j]=round(modgrad(mat,i,j))\n",
    "                resultat2[i][j]=round(grad(mat[i][j],mat[i][j+1]))\n",
    "                resultat3[i][j]=round(grad(mat[i][j],mat[i+1][j]))\n",
    "    return (resultat,resultat2,resultat3)\n",
    "\n",
    "r=calculegrad(image)\n",
    "def seuillage(mat,seuil):\n",
    "    for i in range(mat.shape[0]):\n",
    "        for j in range(mat.shape[1]):\n",
    "            if mat[i][j]>=seuil:mat[i][j]=255\n",
    "            else:mat[i][j]=0\n",
    "    return mat"
   ]
  },
  {
   "cell_type": "code",
   "execution_count": 41,
   "metadata": {},
   "outputs": [
    {
     "data": {
      "text/plain": [
       "True"
      ]
     },
     "execution_count": 41,
     "metadata": {},
     "output_type": "execute_result"
    }
   ],
   "source": [
    "cv.imwrite('try1.jpg',r[0])\n",
    "cv.imwrite('try2.jpg',r[1])\n",
    "cv.imwrite('try3.jpg',r[2])"
   ]
  },
  {
   "cell_type": "code",
   "execution_count": 40,
   "metadata": {},
   "outputs": [
    {
     "data": {
      "text/plain": [
       "True"
      ]
     },
     "execution_count": 40,
     "metadata": {},
     "output_type": "execute_result"
    }
   ],
   "source": [
    "cv.imwrite(\"try5.jpg\",seuillage(r[0],240))"
   ]
  },
  {
   "cell_type": "code",
   "execution_count": null,
   "metadata": {},
   "outputs": [],
   "source": []
  }
 ],
 "metadata": {
  "kernelspec": {
   "display_name": "Python 3",
   "language": "python",
   "name": "python3"
  },
  "language_info": {
   "codemirror_mode": {
    "name": "ipython",
    "version": 3
   },
   "file_extension": ".py",
   "mimetype": "text/x-python",
   "name": "python",
   "nbconvert_exporter": "python",
   "pygments_lexer": "ipython3",
   "version": "3.8.5"
  }
 },
 "nbformat": 4,
 "nbformat_minor": 4
}
